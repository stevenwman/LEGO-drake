{
 "cells": [
  {
   "cell_type": "code",
   "execution_count": null,
   "id": "e094b36b",
   "metadata": {},
   "outputs": [],
   "source": [
    "!python -m pydrake.multibody.fix_inertia stick_bot_generated.urdf stick_bot_generated_fixed_inertia.urdf"
   ]
  }
 ],
 "metadata": {
  "language_info": {
   "name": "python"
  }
 },
 "nbformat": 4,
 "nbformat_minor": 5
}
