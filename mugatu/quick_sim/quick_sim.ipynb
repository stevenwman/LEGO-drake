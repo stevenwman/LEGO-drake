{
 "cells": [
  {
   "cell_type": "code",
   "execution_count": 1,
   "id": "5f92c8c2",
   "metadata": {},
   "outputs": [
    {
     "name": "stderr",
     "output_type": "stream",
     "text": [
      "INFO:drake:Meshcat listening for connections at http://localhost:7003\n"
     ]
    }
   ],
   "source": [
    "from pydrake.geometry import SceneGraph, StartMeshcat\n",
    "meshcat = StartMeshcat()"
   ]
  },
  {
   "cell_type": "code",
   "execution_count": 3,
   "id": "504396ef",
   "metadata": {},
   "outputs": [
    {
     "name": "stderr",
     "output_type": "stream",
     "text": [
      "WARNING:drake:/home/sman/Desktop/Work/Research/LEGO-drake/mugatu/quick_sim/stick_bot_generated_fixed_inertia.urdf:180: warning: Rigid geometries defined with the tag drake:rigid_hydroelastic should not contain the tag drake:hydroelastic_modulus. The specified value (50000000) will be ignored.\n"
     ]
    },
    {
     "name": "stderr",
     "output_type": "stream",
     "text": [
      "WARNING:drake:/home/sman/Desktop/Work/Research/LEGO-drake/mugatu/quick_sim/stick_bot_generated_fixed_inertia.urdf:226: warning: Rigid geometries defined with the tag drake:rigid_hydroelastic should not contain the tag drake:hydroelastic_modulus. The specified value (50000000) will be ignored.\n"
     ]
    },
    {
     "data": {
      "text/plain": [
       "<pydrake.systems.analysis.SimulatorStatus at 0x7fd861d0e830>"
      ]
     },
     "execution_count": 3,
     "metadata": {},
     "output_type": "execute_result"
    }
   ],
   "source": [
    "from pydrake.multibody.parsing import Parser\n",
    "from pydrake.multibody.plant import AddMultibodyPlantSceneGraph\n",
    "from pydrake.systems.analysis import Simulator\n",
    "from pydrake.systems.framework import DiagramBuilder\n",
    "from pydrake.visualization import AddDefaultVisualization\n",
    "from pydrake.geometry import SceneGraph, StartMeshcat\n",
    "\n",
    "# Create builder and scene graph\n",
    "builder = DiagramBuilder()\n",
    "scene_graph = SceneGraph()\n",
    "scene_graph.set_name(\"scene_graph\")\n",
    "\n",
    "# Add plant and scene graph to the builder\n",
    "plant, scene_graph = AddMultibodyPlantSceneGraph(\n",
    "    builder, time_step=0.01, scene_graph=scene_graph\n",
    ")\n",
    "\n",
    "# Parse the URDF model\n",
    "parser = Parser(plant)\n",
    "parser.AddModels(\"stick_bot_generated_fixed_inertia.urdf\")\n",
    "plant.Finalize()\n",
    "\n",
    "# Start Meshcat visualization\n",
    "AddDefaultVisualization(builder=builder, meshcat=meshcat)\n",
    "\n",
    "# Finalize the plant and build the diagram\n",
    "diagram = builder.Build()\n",
    "context = diagram.CreateDefaultContext()\n",
    "\n",
    "# Initialize and run the simulator\n",
    "sim = Simulator(diagram, context)\n",
    "context = sim.get_mutable_context()\n",
    "plant_context = plant.GetMyContextFromRoot(context)\n",
    "\n",
    "q0 = plant.GetPositions(plant_context)\n",
    "q0[6] = 0.2\n",
    "plant.SetPositions(plant_context, q0)\n",
    "sim.Initialize()\n"
   ]
  },
  {
   "cell_type": "code",
   "execution_count": 4,
   "id": "5f19122f",
   "metadata": {},
   "outputs": [],
   "source": [
    "context.SetTime(0.0)\n",
    "plant.SetPositions(plant_context, q0)\n",
    "sim.Initialize()\n",
    "meshcat.StartRecording()\n",
    "sim.AdvanceTo(5.0)\n",
    "meshcat.StopRecording()\n",
    "meshcat.PublishRecording()"
   ]
  },
  {
   "cell_type": "code",
   "execution_count": null,
   "id": "ad4eab4d",
   "metadata": {},
   "outputs": [],
   "source": []
  }
 ],
 "metadata": {
  "kernelspec": {
   "display_name": "drake310",
   "language": "python",
   "name": "python3"
  },
  "language_info": {
   "codemirror_mode": {
    "name": "ipython",
    "version": 3
   },
   "file_extension": ".py",
   "mimetype": "text/x-python",
   "name": "python",
   "nbconvert_exporter": "python",
   "pygments_lexer": "ipython3",
   "version": "3.10.18"
  }
 },
 "nbformat": 4,
 "nbformat_minor": 5
}
